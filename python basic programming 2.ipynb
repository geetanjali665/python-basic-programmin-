{
 "cells": [
  {
   "cell_type": "code",
   "execution_count": 1,
   "metadata": {},
   "outputs": [],
   "source": [
    "#1. Write a Python program to convert kilometers to miles?\n",
    "def conversion(a):\n",
    "    return (a*0.62137119)"
   ]
  },
  {
   "cell_type": "code",
   "execution_count": 9,
   "metadata": {},
   "outputs": [],
   "source": [
    " l = conversion(5)"
   ]
  },
  {
   "cell_type": "code",
   "execution_count": 4,
   "metadata": {},
   "outputs": [
    {
     "data": {
      "text/plain": [
       "3.10685595"
      ]
     },
     "execution_count": 4,
     "metadata": {},
     "output_type": "execute_result"
    }
   ],
   "source": [
    "a"
   ]
  },
  {
   "cell_type": "code",
   "execution_count": 10,
   "metadata": {},
   "outputs": [],
   "source": [
    "#2. Write a Python program to convert Celsius to Fahrenheit?\n",
    "def temperature(b):\n",
    "    return ((b*1.8) +32)"
   ]
  },
  {
   "cell_type": "code",
   "execution_count": 11,
   "metadata": {},
   "outputs": [
    {
     "data": {
      "text/plain": [
       "37.4"
      ]
     },
     "execution_count": 11,
     "metadata": {},
     "output_type": "execute_result"
    }
   ],
   "source": [
    "temperature(3)"
   ]
  },
  {
   "cell_type": "code",
   "execution_count": 22,
   "metadata": {},
   "outputs": [
    {
     "name": "stdout",
     "output_type": "stream",
     "text": [
      "enter the value of year 2020\n",
      "                              2020\n",
      "\n",
      "      January               February               March\n",
      "Mo Tu We Th Fr Sa Su  Mo Tu We Th Fr Sa Su  Mo Tu We Th Fr Sa Su\n",
      "       1  2  3  4  5                  1  2                     1\n",
      " 6  7  8  9 10 11 12   3  4  5  6  7  8  9   2  3  4  5  6  7  8\n",
      "13 14 15 16 17 18 19  10 11 12 13 14 15 16   9 10 11 12 13 14 15\n",
      "20 21 22 23 24 25 26  17 18 19 20 21 22 23  16 17 18 19 20 21 22\n",
      "27 28 29 30 31        24 25 26 27 28 29     23 24 25 26 27 28 29\n",
      "                                            30 31\n",
      "\n",
      "       April                  May                   June\n",
      "Mo Tu We Th Fr Sa Su  Mo Tu We Th Fr Sa Su  Mo Tu We Th Fr Sa Su\n",
      "       1  2  3  4  5               1  2  3   1  2  3  4  5  6  7\n",
      " 6  7  8  9 10 11 12   4  5  6  7  8  9 10   8  9 10 11 12 13 14\n",
      "13 14 15 16 17 18 19  11 12 13 14 15 16 17  15 16 17 18 19 20 21\n",
      "20 21 22 23 24 25 26  18 19 20 21 22 23 24  22 23 24 25 26 27 28\n",
      "27 28 29 30           25 26 27 28 29 30 31  29 30\n",
      "\n",
      "        July                 August              September\n",
      "Mo Tu We Th Fr Sa Su  Mo Tu We Th Fr Sa Su  Mo Tu We Th Fr Sa Su\n",
      "       1  2  3  4  5                  1  2      1  2  3  4  5  6\n",
      " 6  7  8  9 10 11 12   3  4  5  6  7  8  9   7  8  9 10 11 12 13\n",
      "13 14 15 16 17 18 19  10 11 12 13 14 15 16  14 15 16 17 18 19 20\n",
      "20 21 22 23 24 25 26  17 18 19 20 21 22 23  21 22 23 24 25 26 27\n",
      "27 28 29 30 31        24 25 26 27 28 29 30  28 29 30\n",
      "                      31\n",
      "\n",
      "      October               November              December\n",
      "Mo Tu We Th Fr Sa Su  Mo Tu We Th Fr Sa Su  Mo Tu We Th Fr Sa Su\n",
      "          1  2  3  4                     1      1  2  3  4  5  6\n",
      " 5  6  7  8  9 10 11   2  3  4  5  6  7  8   7  8  9 10 11 12 13\n",
      "12 13 14 15 16 17 18   9 10 11 12 13 14 15  14 15 16 17 18 19 20\n",
      "19 20 21 22 23 24 25  16 17 18 19 20 21 22  21 22 23 24 25 26 27\n",
      "26 27 28 29 30 31     23 24 25 26 27 28 29  28 29 30 31\n",
      "                      30\n",
      "\n"
     ]
    }
   ],
   "source": [
    "# 3.Write a Python program to display calendar?\n",
    "import calendar\n",
    "year = int(input(\"enter the value of year \"))\n",
    "cal = calendar.TextCalendar(calendar.MONDAY)\n",
    "print(cal.formatyear(year , 2, 1, 1, 3))"
   ]
  },
  {
   "cell_type": "code",
   "execution_count": 23,
   "metadata": {},
   "outputs": [],
   "source": [
    "#4. Write a Python program to solve quadratic equation?\n",
    "import math\n",
    "import cmath\n",
    "def sqrt(a,b,c):\n",
    "    D =(b*b) - (4*a*c)\n",
    "    root_dis = math.sqrt(abs(D))\n",
    "    if D >0:\n",
    "        x1 = (-b + root_dis)/2*a\n",
    "        x2 = (-b - root_dis)/2*a\n",
    "        print(\"The value of roots are {} and {}\".format(x1,x2))\n",
    "    elif D == 0:\n",
    "        x = -b/2*a\n",
    "        print(\"The value of root is\",x)\n",
    "        \n",
    "    else:\n",
    "        x1 = (-b + cmath.sqrt(D))/2*a\n",
    "        x2 = (-b - cmath.sqrt(D))/2*a\n",
    "        print(\"The value of roots are {} and {}\".format(x1,x2))"
   ]
  },
  {
   "cell_type": "code",
   "execution_count": 26,
   "metadata": {},
   "outputs": [
    {
     "name": "stdout",
     "output_type": "stream",
     "text": [
      "The value of roots are (-10+5j) and (-10-5j)\n"
     ]
    }
   ],
   "source": [
    "sqrt(5,4,1)"
   ]
  },
  {
   "cell_type": "code",
   "execution_count": 27,
   "metadata": {},
   "outputs": [],
   "source": [
    "# 5. Write a Python program to swap two variables without temp variable?\n",
    "a = 3\n",
    "b = 4\n",
    "a,b = b,a"
   ]
  },
  {
   "cell_type": "code",
   "execution_count": 28,
   "metadata": {},
   "outputs": [
    {
     "data": {
      "text/plain": [
       "4"
      ]
     },
     "execution_count": 28,
     "metadata": {},
     "output_type": "execute_result"
    }
   ],
   "source": [
    "a"
   ]
  },
  {
   "cell_type": "code",
   "execution_count": null,
   "metadata": {},
   "outputs": [],
   "source": []
  }
 ],
 "metadata": {
  "kernelspec": {
   "display_name": "Python 3",
   "language": "python",
   "name": "python3"
  },
  "language_info": {
   "codemirror_mode": {
    "name": "ipython",
    "version": 3
   },
   "file_extension": ".py",
   "mimetype": "text/x-python",
   "name": "python",
   "nbconvert_exporter": "python",
   "pygments_lexer": "ipython3",
   "version": "3.8.5"
  }
 },
 "nbformat": 4,
 "nbformat_minor": 5
}
