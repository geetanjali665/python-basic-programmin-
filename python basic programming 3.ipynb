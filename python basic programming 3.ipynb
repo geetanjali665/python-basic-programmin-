{
 "cells": [
  {
   "cell_type": "code",
   "execution_count": 1,
   "metadata": {},
   "outputs": [
    {
     "name": "stdout",
     "output_type": "stream",
     "text": [
      "Enter the number2\n",
      "This is positive number\n"
     ]
    }
   ],
   "source": [
    "1#.Write a Python Program to Check if a Number is Positive, Negative or Zero?\n",
    "Number = int(input(\"Enter the number\"))\n",
    "if Number>0:\n",
    "    print(\"This is positive number\")\n",
    "if Number==0:\n",
    "    print(\"This is zero\")\n",
    "if Number<0:\n",
    "    print(\"This is negative number\")\n",
    "    \n",
    "    "
   ]
  },
  {
   "cell_type": "code",
   "execution_count": 2,
   "metadata": {},
   "outputs": [
    {
     "name": "stdout",
     "output_type": "stream",
     "text": [
      "Enter the number2\n",
      "This is even number\n"
     ]
    }
   ],
   "source": [
    "# 2. Write a Python Program to Check if a Number is Odd or Even?\n",
    "a = int(input(\"Enter the number\"))\n",
    "if a%2==0:\n",
    "     print(\"This is even number\")\n",
    "else:\n",
    "     print(\"This is odd number\")\n",
    "    "
   ]
  },
  {
   "cell_type": "code",
   "execution_count": 3,
   "metadata": {},
   "outputs": [
    {
     "name": "stdout",
     "output_type": "stream",
     "text": [
      "Enter the number2020\n",
      "This is leap year\n"
     ]
    }
   ],
   "source": [
    "#3.Write a Python Program to Check Leap Year?\n",
    "year = int(input(\"Enter the number\"))\n",
    "if year%4==0:\n",
    "     print(\"This is leap year\")\n",
    "else:\n",
    "     print(\"This is not leap year\")"
   ]
  },
  {
   "cell_type": "code",
   "execution_count": 4,
   "metadata": {},
   "outputs": [
    {
     "name": "stdout",
     "output_type": "stream",
     "text": [
      "Enter the number3\n",
      "this is a prime number\n"
     ]
    }
   ],
   "source": [
    "#4. Write a Python Program to Check Prime Number?\n",
    "n = int(input(\"Enter the number\"))\n",
    "if n> 1:\n",
    "    for i in range(2,n):\n",
    "        if n%i ==0:\n",
    "            print(\"this is not prime number\")\n",
    "            break\n",
    "    else:\n",
    "         print(\"this is a prime number\")\n",
    "else:\n",
    "    \n",
    "    print(\"this is not prime number\")\n",
    "    "
   ]
  },
  {
   "cell_type": "code",
   "execution_count": 5,
   "metadata": {},
   "outputs": [
    {
     "name": "stdout",
     "output_type": "stream",
     "text": [
      "Enter the number5\n",
      "[2, 3, 5]\n"
     ]
    }
   ],
   "source": [
    "#5. Write a Python Program to Print all Prime Numbers in an Interval of 1-10000?\n",
    "n = int(input(\"Enter the number\"))\n",
    "l = []\n",
    "for i in range(1,n+1):\n",
    "    if i ==1:\n",
    "        continue\n",
    "    elif i ==2:\n",
    "        l.append(i)\n",
    "        continue\n",
    "    for j in range(2,i):\n",
    "        if i%j ==0:\n",
    "            break\n",
    "    else:\n",
    "        l.append(i)\n",
    "        \n",
    "print(l)        \n",
    "        \n",
    "\n",
    "            \n",
    "        "
   ]
  },
  {
   "cell_type": "code",
   "execution_count": 6,
   "metadata": {},
   "outputs": [
    {
     "data": {
      "text/plain": [
       "2"
      ]
     },
     "execution_count": 6,
     "metadata": {},
     "output_type": "execute_result"
    }
   ],
   "source": [
    "a\n"
   ]
  },
  {
   "cell_type": "code",
   "execution_count": null,
   "metadata": {},
   "outputs": [],
   "source": []
  }
 ],
 "metadata": {
  "kernelspec": {
   "display_name": "Python 3",
   "language": "python",
   "name": "python3"
  },
  "language_info": {
   "codemirror_mode": {
    "name": "ipython",
    "version": 3
   },
   "file_extension": ".py",
   "mimetype": "text/x-python",
   "name": "python",
   "nbconvert_exporter": "python",
   "pygments_lexer": "ipython3",
   "version": "3.8.5"
  }
 },
 "nbformat": 4,
 "nbformat_minor": 5
}
